{
 "cells": [
  {
   "cell_type": "code",
   "execution_count": null,
   "id": "a32e9a86",
   "metadata": {},
   "outputs": [],
   "source": [
    "from selenium import webdriver\n",
    "from selenium.webdriver.chrome.service import Service\n",
    "from selenium.webdriver.common.by import By\n",
    "from bs4 import BeautifulSoup as BS\n",
    "import re\n",
    "import requests\n",
    "from urllib import request\n",
    "import pandas as pd"
   ]
  },
  {
   "cell_type": "code",
   "execution_count": null,
   "id": "dceae88f",
   "metadata": {},
   "outputs": [],
   "source": [
    "from selenium import webdriver\n",
    "from selenium.webdriver.common.keys import Keys\n",
    "from selenium.webdriver.support.ui import WebDriverWait\n",
    "from selenium.webdriver.support import expected_conditions as EC\n",
    "from selenium.common.exceptions import TimeoutException\n",
    "from selenium.common.exceptions import NoSuchElementException\n",
    "from selenium.webdriver.common.by import By\n",
    "from selenium.webdriver.support.ui import Select\n",
    "import time"
   ]
  },
  {
   "cell_type": "code",
   "execution_count": null,
   "id": "923836e3",
   "metadata": {},
   "outputs": [],
   "source": [
    "chromedriver = 'D:/20220103_lab/14.python/data/chrome/chromedriver'\n",
    "driver = webdriver.Chrome(chromedriver) \n",
    "\n",
    "# 포스팅 작성 당시 크롬 버젼 : 92"
   ]
  },
  {
   "cell_type": "code",
   "execution_count": null,
   "id": "ca01928a",
   "metadata": {},
   "outputs": [],
   "source": [
    "df = pd.DataFrame"
   ]
  },
  {
   "cell_type": "code",
   "execution_count": null,
   "id": "4492e8f8",
   "metadata": {},
   "outputs": [],
   "source": [
    "# 네이버 지도 검색창에 [~동 @@식당]으로 검색해 정확도를 높여야 합니다. 검색어를 미리 설정해줍시다.\n",
    "\n",
    "df['naver_keyword'] = df['dong'] + \"%20\" + df['name']  # \"%20\"는 띄어쓰기를 의미합니다.\n",
    "df['naver_map_url'] = ''"
   ]
  },
  {
   "cell_type": "code",
   "execution_count": null,
   "id": "039e7c88",
   "metadata": {},
   "outputs": [],
   "source": [
    "# 본격적으로 가게 상세페이지의 URL을 가져옵시다\n",
    "\n",
    "for i, keyword in enumerate(df['naver_keyword'].tolist()):\n",
    "    print(\"이번에 찾을 키워드 :\", i, f\"/ {df.shape[0] -1} 행\", keyword)\n",
    "    try:\n",
    "        naver_map_search_url = f\"https://m.map.naver.com/search2/search.naver?query={keyword}&sm=hty&style=v5\"\n",
    "        \n",
    "        driver.get(naver_map_search_url)\n",
    "        time.sleep(3.5)\n",
    "        df.iloc[i,-1] = driver.find_element_by_css_selector(\"#ct > div.search_listview._content._ctList > ul > li:nth-child(1) > div.item_info > a.a_item.a_item_distance._linkSiteview\").get_attribute('data-cid')\n",
    "        # 네이버 지도 시스템은 data-cid에 url 파라미터를 저장해두고 있었습니다.\n",
    "        # data-cid 번호를 뽑아두었다가 기본 url 템플릿에 넣어 최종적인 url을 완성하면 됩니다.\n",
    "        \n",
    "        #만약 검색 결과가 없다면?\n",
    "    except Exception as e1:\n",
    "        if \"li:nth-child(1)\" in str(e1):  # -> \"child(1)이 없던데요?\"\n",
    "            try:\n",
    "                df.iloc[i,-1] = driver.find_element_by_css_selector(\"#ct > div.search_listview._content._ctList > ul > li:nth-child(1) > div.item_info > a.a_item.a_item_distance._linkSiteview\").get_attribute('data-cid')\n",
    "                time.sleep(1)\n",
    "            except Exception as e2:\n",
    "                print(e2)\n",
    "                df.iloc[i,-1] = np.nan\n",
    "                time.sleep(1)\n",
    "        else:\n",
    "            pass\n",
    "\n",
    "\n",
    "driver.quit()"
   ]
  },
  {
   "cell_type": "code",
   "execution_count": null,
   "id": "bd915cc2",
   "metadata": {},
   "outputs": [],
   "source": [
    "# 이때 수집한 것은 완전한 URL이 아니라 URL에 들어갈 ID (data-cid 라는 코드명으로 저장된) 이므로, 온전한 URL로 만들어줍니다\n",
    "\n",
    "df['naver_map_url'] = \"https://m.place.naver.com/restaurant/\" + df['naver_map_url']"
   ]
  },
  {
   "cell_type": "code",
   "execution_count": null,
   "id": "03a1903c",
   "metadata": {},
   "outputs": [],
   "source": [
    "# URL이 수집되지 않은 데이터는 제거합니다.\n",
    "df = df.loc[~df['naver_map_url'].isnull()]"
   ]
  },
  {
   "cell_type": "code",
   "execution_count": null,
   "id": "d397f73f",
   "metadata": {},
   "outputs": [],
   "source": [
    "# 크롤링 에러가 떠서 'null'을 넣어 둔 데이터는 활용 의미가 없으므로 행 삭제를 해줘도 됩니다\n",
    "df = df.loc[~(df['naver_store_type'].str.contains('null'))]\n",
    "\n",
    "\n",
    "# 별점 평균, 수 같은 데이터 역시 스트링 타입으로 크롤링이 되었으므로 numeric으로 바꿔줍니다.\n",
    "df[['naver_star_point', 'naver_star_point_qty', 'naver_blog_review_qty']] = df[['naver_star_point', 'naver_star_point_qty', 'naver_blog_review_qty']].apply(pd.to_numeric)\n",
    "Python\n"
   ]
  },
  {
   "cell_type": "code",
   "execution_count": null,
   "id": "a9b6bc4c",
   "metadata": {},
   "outputs": [],
   "source": []
  },
  {
   "cell_type": "code",
   "execution_count": null,
   "id": "c5ccda9f",
   "metadata": {},
   "outputs": [],
   "source": []
  },
  {
   "cell_type": "code",
   "execution_count": null,
   "id": "a9b2dc39",
   "metadata": {},
   "outputs": [],
   "source": [
    "from selenium import webdriver\n",
    "import time\n",
    "\n",
    "# 크롬창(웹드라이버) 열기\n",
    "driver = webdriver.Chrome(\"D:/20220103_lab/14.python/data/chrome/chromedriver\")"
   ]
  },
  {
   "cell_type": "code",
   "execution_count": null,
   "id": "63bc664b",
   "metadata": {},
   "outputs": [],
   "source": [
    "# 구글 지도 접속하기\n",
    "driver.get(\"https://www.google.com/maps/\")"
   ]
  },
  {
   "cell_type": "code",
   "execution_count": null,
   "id": "2df921c7",
   "metadata": {},
   "outputs": [],
   "source": [
    "# 검색창에 \"카페\" 입력하기\n",
    "searchbox = driver.find_element_by_css_selector(\"input#searchboxinput\")\n",
    "searchbox.send_keys(\"동물병원\")"
   ]
  },
  {
   "cell_type": "code",
   "execution_count": null,
   "id": "046539fc",
   "metadata": {},
   "outputs": [],
   "source": [
    "# 검색버튼 누르기\n",
    "searchbutton = driver.find_element_by_css_selector(\"button#searchbox-searchbutton\")\n",
    "searchbutton.click()"
   ]
  },
  {
   "cell_type": "code",
   "execution_count": null,
   "id": "f256e761",
   "metadata": {
    "scrolled": false
   },
   "outputs": [],
   "source": [
    "# 여러 페이지(999)에서 반복하기\n",
    "for i in range(999):\n",
    "    time.sleep(3)\n",
    "\n",
    "    # 컨테이너(가게) 데이터 수집 // div.section-result-content\n",
    "    stores = driver.find_elements_by_css_selector(\"div.section-result-content\")\n",
    "\n",
    "    for s in stores:\n",
    "        # 가게 이름 데이터 수집 // h3.section-result-title\n",
    "        title = s.find_element_by_css_selector(\"h3.section-result-title\").text\n",
    "\n",
    "        # 평점 데이터 수집 // span.cards-rating-score\n",
    "        # 평점이 없는 경우 에러 처리\n",
    "        try:\n",
    "            score = s.find_element_by_css_selector(\"span.cards-rating-score\").text\n",
    "        except:\n",
    "            score = \"평점없음\"\n",
    "\n",
    "            # 가게 주소 데이터 수집 // span.section-result-location\n",
    "\n",
    "            addr = s.find_element_by_css_selector(\"span.section-result-location\").text\n",
    "\n",
    "            print(title, \"/\", score, \"/\", addr)\n",
    "            \n",
    "    # 다음페이지 버튼 클릭 하기\n",
    "    # 다음페이지가 없는 경우(데이터 수집 완료) 에러 처리\n",
    "    try:\n",
    "        nextpage = driver.find_element_by_css_selector(\"button#ppdPk-Ej1Yeb-LgbsSe-tJiF1e\")\n",
    "        nextpage.click()\n",
    "    except:\n",
    "        print(\"데이터 수집 완료.\")\n",
    "        break"
   ]
  },
  {
   "cell_type": "code",
   "execution_count": null,
   "id": "22bb9a71",
   "metadata": {},
   "outputs": [],
   "source": [
    "# 크롬창 닫기\n",
    "driver.close()\n",
    "# 출처: https://datalabbit.tistory.com/45 [간토끼 DataMining Lab:티스토리]"
   ]
  },
  {
   "cell_type": "code",
   "execution_count": null,
   "id": "9cd602dc",
   "metadata": {},
   "outputs": [],
   "source": []
  },
  {
   "cell_type": "code",
   "execution_count": null,
   "id": "294f4131",
   "metadata": {},
   "outputs": [],
   "source": []
  },
  {
   "cell_type": "code",
   "execution_count": null,
   "id": "35c3e853",
   "metadata": {},
   "outputs": [],
   "source": [
    "from selenium import webdriver\n",
    "import time\n",
    "from selenium.webdriver.common.by import By"
   ]
  },
  {
   "cell_type": "code",
   "execution_count": null,
   "id": "72a1551b",
   "metadata": {
    "scrolled": true
   },
   "outputs": [],
   "source": [
    "driver = webdriver.Chrome(\"D:/20220103_lab/14.python/data/chrome/chromedriver\")"
   ]
  },
  {
   "cell_type": "code",
   "execution_count": null,
   "id": "dd50fb77",
   "metadata": {},
   "outputs": [],
   "source": [
    "driver.get(\"https://www.google.com/maps/\")"
   ]
  },
  {
   "cell_type": "code",
   "execution_count": null,
   "id": "34c3dc3b",
   "metadata": {},
   "outputs": [],
   "source": [
    "searchbox = driver.find_element_by_css_selector(\"input#searchboxinput\")\n",
    "searchbox.send_keys(\"동물병원\")"
   ]
  },
  {
   "cell_type": "code",
   "execution_count": null,
   "id": "cb1f53d2",
   "metadata": {},
   "outputs": [],
   "source": [
    "searchbutton = driver.find_element_by_css_selector(\"button#searchbox-searchbutton\")\n",
    "searchbutton.click()"
   ]
  },
  {
   "cell_type": "code",
   "execution_count": null,
   "id": "1057ed78",
   "metadata": {},
   "outputs": [],
   "source": [
    "for i in range(999):\n",
    "    time.sleep(3)\n",
    "    stores = driver.find_elements_by_css_selector(\"m6QErb DxyBCb kA9KIf dS8AEf ecceSd\")\n",
    "    for s in stores:\n",
    "        title = s.find_element_by_css_selector(\"h3.section-result-title\").text\n",
    "        try:\n",
    "            score = s.find_element_by_css_selector(\"span.cards-rating-score\").text\n",
    "        except:\n",
    "            score = \"평점없음\"\n",
    "            \n",
    "            addr = s.find_element_by_css_selector(\"span.section-result-location\").text\n",
    "            \n",
    "            print(title, \"/\", score, \"/\", addr)\n",
    "            \n",
    "    try:\n",
    "        nextpage = driver.find_element_by_css_selector(\"button#ppdPk-Ej1Yeb-LgbsSe-tJiF1e\")\n",
    "        nextpage.click()\n",
    "    except:\n",
    "        print(\"데이터 수집 완료.\")\n",
    "        break"
   ]
  },
  {
   "cell_type": "code",
   "execution_count": null,
   "id": "cb9cdbe7",
   "metadata": {},
   "outputs": [],
   "source": [
    "driver.close()"
   ]
  },
  {
   "cell_type": "code",
   "execution_count": null,
   "id": "39f5d9b7",
   "metadata": {},
   "outputs": [],
   "source": [
    "\n",
    "\n",
    "\n",
    "\n",
    "\n",
    "\n",
    "\n",
    "\n",
    "\n",
    "\n"
   ]
  },
  {
   "cell_type": "code",
   "execution_count": 1,
   "id": "44b70e27",
   "metadata": {},
   "outputs": [],
   "source": [
    "from selenium import webdriver\n",
    "import time\n",
    "from selenium.webdriver.common.by import By"
   ]
  },
  {
   "cell_type": "code",
   "execution_count": 2,
   "id": "678ac6e2",
   "metadata": {
    "scrolled": true
   },
   "outputs": [
    {
     "name": "stderr",
     "output_type": "stream",
     "text": [
      "C:\\Users\\82103\\AppData\\Local\\Temp/ipykernel_1656/3310334687.py:1: DeprecationWarning: executable_path has been deprecated, please pass in a Service object\n",
      "  driver = webdriver.Chrome(\"D:/20220103_lab/14.python/data/chrome/chromedriver\")\n"
     ]
    }
   ],
   "source": [
    "driver = webdriver.Chrome(\"D:/20220103_lab/14.python/data/chrome/chromedriver\")"
   ]
  },
  {
   "cell_type": "code",
   "execution_count": 3,
   "id": "a2d67536",
   "metadata": {},
   "outputs": [],
   "source": [
    "driver.get(\"https://www.google.com/maps/\")"
   ]
  },
  {
   "cell_type": "code",
   "execution_count": 4,
   "id": "d740ea6e",
   "metadata": {},
   "outputs": [],
   "source": [
    "search_input_tag = driver.find_element(By.ID, 'searchboxinput')\n",
    "search_input_tag.send_keys('동물병원')\n",
    "time.sleep(1)"
   ]
  },
  {
   "cell_type": "code",
   "execution_count": 5,
   "id": "b4c1c9ef",
   "metadata": {},
   "outputs": [],
   "source": [
    "search_button_tag = driver.find_element(By.ID, 'searchbox-searchbutton')\n",
    "search_button_tag.click()\n",
    "time.sleep(5)"
   ]
  },
  {
   "cell_type": "code",
   "execution_count": 19,
   "id": "0c67d2c0",
   "metadata": {},
   "outputs": [],
   "source": [
    "target = driver.find_element(By.XPATH, '/html/body/div[3]/div[9]/div[9]/div[1]/div[1]/div[1]/div[2]')"
   ]
  },
  {
   "cell_type": "code",
   "execution_count": 20,
   "id": "5f7710e7",
   "metadata": {
    "scrolled": true
   },
   "outputs": [
    {
     "data": {
      "text/plain": [
       "'평점\\n영업시간\\n모든 필터\\n아마존동물병원\\n4.6(25)\\n동물병원 · 임학동 67-7\\n영업 종료 ⋅ 오전 10:00에 영업 시작 · 032-555-7502 ext. 3\\n경로\\n계양동물메디컬센터\\n4.3(50)\\n동물병원 · 계산동 942-24번지\\n영업 종료 ⋅ 오전 9:30에 영업 시작 · 032-555-9975\\n경로\\n한솔동물병원\\n4.3(13)\\n동물병원 · 계산2동 918-2\\n032-553-4652\\n웹사이트\\n경로\\n해림동물병원\\n4.8(100)\\n동물병원 · 작전동 864-39\\n영업 종료 ⋅ 오전 10:00에 영업 시작 · 032-546-0079\\n경로\\n이지동물병원\\n4.5(8)\\n동물 병원 · 병방동 422\\n영업 종료 ⋅ 오전 10:00에 영업 시작 · 032-549-0077\\n경로\\n신통방통동물병원\\n4.9(10)\\n동물 병원 · 작전동 863\\n영업 종료 ⋅ 오전 10:00에 영업 시작 · 032-552-3369\\n경로\\n다오동물병원\\n4.7(6)\\n동물병원 · 계산동 1062\\n032-548-0275\\n경로\\n재영동물병원\\n3.8(4)\\n동물병원 · 계산1동\\n032-542-4647\\n경로\\n신영재동물병원\\n4.0(2)\\n동물병원 · 병방동 426\\n032-552-0075\\n웹사이트\\n경로\\n작전24동물병원\\n4.4(7)\\n동물병원 · 작전동 925-1\\n경로\\n아프리카 동물의료센터 [구 아프리카동물병원]\\n4.4(89)\\n동물병원 · 장제로340번길 5 3층\\n영업 종료 ⋅ 오전 9:00에 영업 시작 · 032-508-7582\\n웹사이트\\n경로\\n부평종합동물병원\\n4.5(101)\\n동물병원 · 부평동 부평대로 154\\n영업 종료 ⋅ 오전 9:30에 영업 시작 · 032-511-6836\\n경로\\n보비동물병원\\n4.6(48)\\n동물병원 · 산곡동 411-5\\n032-524-6959\\n경로\\n펫가든동물병원\\n5.0(1)\\n동물 병원 · 계산동 1059-1번지 2층 계양구 인천광역시 KR\\n경로\\n부평종합동물의료센터\\n4.4(48)\\n동물병원 · 부평대로 138\\n032-511-6836\\n웹사이트\\n경로\\n세림동물병원\\n5.0(23)\\n동물병원 · 산곡동 143-2\\n032-503-0075\\n경로\\n닥터팬더동물병원\\n리뷰 없음\\n동물 병원 · 용종동 207-1번지 코아루센트럴파크 1층 104호\\n032-553-7975\\n경로\\n포근한동물병원\\n4.9(31)\\n동물병원 · 중동 1168\\n24시간 영업 · 032-231-0075\\n경로\\n부천준동물병원\\n4.8(27)\\n동물병원 · 중3동 1062-1\\n032-322-7595\\n웹사이트\\n경로\\n펫사랑동물병원\\n4.4(48)\\n동물병원 · 산곡동 194-6\\n032-521-0003\\n웹사이트\\n경로\\n검색결과 1 - 20 표시 중\\n지도 이동 시 결과 업데이트'"
      ]
     },
     "execution_count": 20,
     "metadata": {},
     "output_type": "execute_result"
    }
   ],
   "source": [
    "target.text"
   ]
  },
  {
   "cell_type": "code",
   "execution_count": 24,
   "id": "51495269",
   "metadata": {},
   "outputs": [
    {
     "ename": "JavascriptException",
     "evalue": "Message: javascript error: Cannot read properties of null (reading 'scrollTo')\n  (Session info: chrome=102.0.5005.62)\nStacktrace:\nBacktrace:\n\tOrdinal0 [0x00D8B8F3+2406643]\n\tOrdinal0 [0x00D1AF31+1945393]\n\tOrdinal0 [0x00C0C748+837448]\n\tOrdinal0 [0x00C0F154+848212]\n\tOrdinal0 [0x00C0F012+847890]\n\tOrdinal0 [0x00C0F98A+850314]\n\tOrdinal0 [0x00C650C9+1200329]\n\tOrdinal0 [0x00C5427C+1131132]\n\tOrdinal0 [0x00C64682+1197698]\n\tOrdinal0 [0x00C54096+1130646]\n\tOrdinal0 [0x00C2E636+976438]\n\tOrdinal0 [0x00C2F546+980294]\n\tGetHandleVerifier [0x00FF9612+2498066]\n\tGetHandleVerifier [0x00FEC920+2445600]\n\tGetHandleVerifier [0x00E24F2A+579370]\n\tGetHandleVerifier [0x00E23D36+574774]\n\tOrdinal0 [0x00D21C0B+1973259]\n\tOrdinal0 [0x00D26688+1992328]\n\tOrdinal0 [0x00D26775+1992565]\n\tOrdinal0 [0x00D2F8D1+2029777]\n\tBaseThreadInitThunk [0x7738FA29+25]\n\tRtlGetAppContainerNamedObjectPath [0x77A17A7E+286]\n\tRtlGetAppContainerNamedObjectPath [0x77A17A4E+238]\n",
     "output_type": "error",
     "traceback": [
      "\u001b[1;31m---------------------------------------------------------------------------\u001b[0m",
      "\u001b[1;31mJavascriptException\u001b[0m                       Traceback (most recent call last)",
      "\u001b[1;32m~\\AppData\\Local\\Temp/ipykernel_1656/3439740856.py\u001b[0m in \u001b[0;36m<module>\u001b[1;34m\u001b[0m\n\u001b[0;32m      1\u001b[0m \u001b[1;32mfor\u001b[0m \u001b[0mi\u001b[0m \u001b[1;32min\u001b[0m \u001b[0mrange\u001b[0m\u001b[1;33m(\u001b[0m\u001b[1;36m0\u001b[0m\u001b[1;33m,\u001b[0m\u001b[1;36m10\u001b[0m\u001b[1;33m)\u001b[0m\u001b[1;33m:\u001b[0m\u001b[1;33m\u001b[0m\u001b[1;33m\u001b[0m\u001b[0m\n\u001b[1;32m----> 2\u001b[1;33m     \u001b[0mdriver\u001b[0m\u001b[1;33m.\u001b[0m\u001b[0mexecute_script\u001b[0m\u001b[1;33m(\u001b[0m\u001b[1;34m'test=document.querySelector(\"#pane > div > div.Yr7JMd-pane-content.cYB2Ge-oHo7ed > div > div > div.siAUzd-neVct.section-scrollbox.cYB2Ge-oHo7ed.cYB2Ge-ti6hGc.siAUzd-neVct-Q3DXx-BvBYQ > div.siAUzd-neVct.section-scrollbox.cYB2Ge-oHo7ed.cYB2Ge-ti6hGc.siAUzd-neVct-Q3DXx-BvBYQ\"); test.scrollTo(0, 10000000000000000000);'\u001b[0m\u001b[1;33m)\u001b[0m\u001b[1;33m\u001b[0m\u001b[1;33m\u001b[0m\u001b[0m\n\u001b[0m\u001b[0;32m      3\u001b[0m     \u001b[0mtime\u001b[0m\u001b[1;33m.\u001b[0m\u001b[0msleep\u001b[0m\u001b[1;33m(\u001b[0m\u001b[1;36m1\u001b[0m\u001b[1;33m)\u001b[0m\u001b[1;33m\u001b[0m\u001b[1;33m\u001b[0m\u001b[0m\n",
      "\u001b[1;32mD:\\anaconda\\lib\\site-packages\\selenium\\webdriver\\remote\\webdriver.py\u001b[0m in \u001b[0;36mexecute_script\u001b[1;34m(self, script, *args)\u001b[0m\n\u001b[0;32m    877\u001b[0m         \u001b[0mcommand\u001b[0m \u001b[1;33m=\u001b[0m \u001b[0mCommand\u001b[0m\u001b[1;33m.\u001b[0m\u001b[0mW3C_EXECUTE_SCRIPT\u001b[0m\u001b[1;33m\u001b[0m\u001b[1;33m\u001b[0m\u001b[0m\n\u001b[0;32m    878\u001b[0m \u001b[1;33m\u001b[0m\u001b[0m\n\u001b[1;32m--> 879\u001b[1;33m         return self.execute(command, {\n\u001b[0m\u001b[0;32m    880\u001b[0m             \u001b[1;34m'script'\u001b[0m\u001b[1;33m:\u001b[0m \u001b[0mscript\u001b[0m\u001b[1;33m,\u001b[0m\u001b[1;33m\u001b[0m\u001b[1;33m\u001b[0m\u001b[0m\n\u001b[0;32m    881\u001b[0m             'args': converted_args})['value']\n",
      "\u001b[1;32mD:\\anaconda\\lib\\site-packages\\selenium\\webdriver\\remote\\webdriver.py\u001b[0m in \u001b[0;36mexecute\u001b[1;34m(self, driver_command, params)\u001b[0m\n\u001b[0;32m    423\u001b[0m         \u001b[0mresponse\u001b[0m \u001b[1;33m=\u001b[0m \u001b[0mself\u001b[0m\u001b[1;33m.\u001b[0m\u001b[0mcommand_executor\u001b[0m\u001b[1;33m.\u001b[0m\u001b[0mexecute\u001b[0m\u001b[1;33m(\u001b[0m\u001b[0mdriver_command\u001b[0m\u001b[1;33m,\u001b[0m \u001b[0mparams\u001b[0m\u001b[1;33m)\u001b[0m\u001b[1;33m\u001b[0m\u001b[1;33m\u001b[0m\u001b[0m\n\u001b[0;32m    424\u001b[0m         \u001b[1;32mif\u001b[0m \u001b[0mresponse\u001b[0m\u001b[1;33m:\u001b[0m\u001b[1;33m\u001b[0m\u001b[1;33m\u001b[0m\u001b[0m\n\u001b[1;32m--> 425\u001b[1;33m             \u001b[0mself\u001b[0m\u001b[1;33m.\u001b[0m\u001b[0merror_handler\u001b[0m\u001b[1;33m.\u001b[0m\u001b[0mcheck_response\u001b[0m\u001b[1;33m(\u001b[0m\u001b[0mresponse\u001b[0m\u001b[1;33m)\u001b[0m\u001b[1;33m\u001b[0m\u001b[1;33m\u001b[0m\u001b[0m\n\u001b[0m\u001b[0;32m    426\u001b[0m             response['value'] = self._unwrap_value(\n\u001b[0;32m    427\u001b[0m                 response.get('value', None))\n",
      "\u001b[1;32mD:\\anaconda\\lib\\site-packages\\selenium\\webdriver\\remote\\errorhandler.py\u001b[0m in \u001b[0;36mcheck_response\u001b[1;34m(self, response)\u001b[0m\n\u001b[0;32m    245\u001b[0m                 \u001b[0malert_text\u001b[0m \u001b[1;33m=\u001b[0m \u001b[0mvalue\u001b[0m\u001b[1;33m[\u001b[0m\u001b[1;34m'alert'\u001b[0m\u001b[1;33m]\u001b[0m\u001b[1;33m.\u001b[0m\u001b[0mget\u001b[0m\u001b[1;33m(\u001b[0m\u001b[1;34m'text'\u001b[0m\u001b[1;33m)\u001b[0m\u001b[1;33m\u001b[0m\u001b[1;33m\u001b[0m\u001b[0m\n\u001b[0;32m    246\u001b[0m             \u001b[1;32mraise\u001b[0m \u001b[0mexception_class\u001b[0m\u001b[1;33m(\u001b[0m\u001b[0mmessage\u001b[0m\u001b[1;33m,\u001b[0m \u001b[0mscreen\u001b[0m\u001b[1;33m,\u001b[0m \u001b[0mstacktrace\u001b[0m\u001b[1;33m,\u001b[0m \u001b[0malert_text\u001b[0m\u001b[1;33m)\u001b[0m  \u001b[1;31m# type: ignore[call-arg]  # mypy is not smart enough here\u001b[0m\u001b[1;33m\u001b[0m\u001b[1;33m\u001b[0m\u001b[0m\n\u001b[1;32m--> 247\u001b[1;33m         \u001b[1;32mraise\u001b[0m \u001b[0mexception_class\u001b[0m\u001b[1;33m(\u001b[0m\u001b[0mmessage\u001b[0m\u001b[1;33m,\u001b[0m \u001b[0mscreen\u001b[0m\u001b[1;33m,\u001b[0m \u001b[0mstacktrace\u001b[0m\u001b[1;33m)\u001b[0m\u001b[1;33m\u001b[0m\u001b[1;33m\u001b[0m\u001b[0m\n\u001b[0m\u001b[0;32m    248\u001b[0m \u001b[1;33m\u001b[0m\u001b[0m\n\u001b[0;32m    249\u001b[0m     \u001b[1;32mdef\u001b[0m \u001b[0m_value_or_default\u001b[0m\u001b[1;33m(\u001b[0m\u001b[0mself\u001b[0m\u001b[1;33m,\u001b[0m \u001b[0mobj\u001b[0m\u001b[1;33m:\u001b[0m \u001b[0mMapping\u001b[0m\u001b[1;33m[\u001b[0m\u001b[0m_KT\u001b[0m\u001b[1;33m,\u001b[0m \u001b[0m_VT\u001b[0m\u001b[1;33m]\u001b[0m\u001b[1;33m,\u001b[0m \u001b[0mkey\u001b[0m\u001b[1;33m:\u001b[0m \u001b[0m_KT\u001b[0m\u001b[1;33m,\u001b[0m \u001b[0mdefault\u001b[0m\u001b[1;33m:\u001b[0m \u001b[0m_VT\u001b[0m\u001b[1;33m)\u001b[0m \u001b[1;33m->\u001b[0m \u001b[0m_VT\u001b[0m\u001b[1;33m:\u001b[0m\u001b[1;33m\u001b[0m\u001b[1;33m\u001b[0m\u001b[0m\n",
      "\u001b[1;31mJavascriptException\u001b[0m: Message: javascript error: Cannot read properties of null (reading 'scrollTo')\n  (Session info: chrome=102.0.5005.62)\nStacktrace:\nBacktrace:\n\tOrdinal0 [0x00D8B8F3+2406643]\n\tOrdinal0 [0x00D1AF31+1945393]\n\tOrdinal0 [0x00C0C748+837448]\n\tOrdinal0 [0x00C0F154+848212]\n\tOrdinal0 [0x00C0F012+847890]\n\tOrdinal0 [0x00C0F98A+850314]\n\tOrdinal0 [0x00C650C9+1200329]\n\tOrdinal0 [0x00C5427C+1131132]\n\tOrdinal0 [0x00C64682+1197698]\n\tOrdinal0 [0x00C54096+1130646]\n\tOrdinal0 [0x00C2E636+976438]\n\tOrdinal0 [0x00C2F546+980294]\n\tGetHandleVerifier [0x00FF9612+2498066]\n\tGetHandleVerifier [0x00FEC920+2445600]\n\tGetHandleVerifier [0x00E24F2A+579370]\n\tGetHandleVerifier [0x00E23D36+574774]\n\tOrdinal0 [0x00D21C0B+1973259]\n\tOrdinal0 [0x00D26688+1992328]\n\tOrdinal0 [0x00D26775+1992565]\n\tOrdinal0 [0x00D2F8D1+2029777]\n\tBaseThreadInitThunk [0x7738FA29+25]\n\tRtlGetAppContainerNamedObjectPath [0x77A17A7E+286]\n\tRtlGetAppContainerNamedObjectPath [0x77A17A4E+238]\n"
     ]
    }
   ],
   "source": [
    "for i in range(0,10):\n",
    "    driver.execute_script('test=document.querySelector(\"#pane > div > div.Yr7JMd-pane-content.cYB2Ge-oHo7ed > div > div > div.siAUzd-neVct.section-scrollbox.cYB2Ge-oHo7ed.cYB2Ge-ti6hGc.siAUzd-neVct-Q3DXx-BvBYQ > div.siAUzd-neVct.section-scrollbox.cYB2Ge-oHo7ed.cYB2Ge-ti6hGc.siAUzd-neVct-Q3DXx-BvBYQ\"); test.scrollTo(0, 10000000000000000000);')\n",
    "    time.sleep(1)"
   ]
  },
  {
   "cell_type": "code",
   "execution_count": 14,
   "id": "b584a690",
   "metadata": {},
   "outputs": [
    {
     "name": "stdout",
     "output_type": "stream",
     "text": [
      "--------------------------\n"
     ]
    },
    {
     "ename": "NoSuchElementException",
     "evalue": "Message: no such element: Unable to locate element: {\"method\":\"xpath\",\"selector\":\"./div/a[1]\"}\n  (Session info: chrome=102.0.5005.62)\nStacktrace:\nBacktrace:\n\tOrdinal0 [0x00D8B8F3+2406643]\n\tOrdinal0 [0x00D1AF31+1945393]\n\tOrdinal0 [0x00C0C748+837448]\n\tOrdinal0 [0x00C392E0+1020640]\n\tOrdinal0 [0x00C3957B+1021307]\n\tOrdinal0 [0x00C2FAE1+981729]\n\tOrdinal0 [0x00C542C4+1131204]\n\tOrdinal0 [0x00C2FA64+981604]\n\tOrdinal0 [0x00C54494+1131668]\n\tOrdinal0 [0x00C64682+1197698]\n\tOrdinal0 [0x00C54096+1130646]\n\tOrdinal0 [0x00C2E636+976438]\n\tOrdinal0 [0x00C2F546+980294]\n\tGetHandleVerifier [0x00FF9612+2498066]\n\tGetHandleVerifier [0x00FEC920+2445600]\n\tGetHandleVerifier [0x00E24F2A+579370]\n\tGetHandleVerifier [0x00E23D36+574774]\n\tOrdinal0 [0x00D21C0B+1973259]\n\tOrdinal0 [0x00D26688+1992328]\n\tOrdinal0 [0x00D26775+1992565]\n\tOrdinal0 [0x00D2F8D1+2029777]\n\tBaseThreadInitThunk [0x7738FA29+25]\n\tRtlGetAppContainerNamedObjectPath [0x77A17A7E+286]\n\tRtlGetAppContainerNamedObjectPath [0x77A17A4E+238]\n",
     "output_type": "error",
     "traceback": [
      "\u001b[1;31m---------------------------------------------------------------------------\u001b[0m",
      "\u001b[1;31mNoSuchElementException\u001b[0m                    Traceback (most recent call last)",
      "\u001b[1;32m~\\AppData\\Local\\Temp/ipykernel_1656/349753137.py\u001b[0m in \u001b[0;36m<module>\u001b[1;34m\u001b[0m\n\u001b[0;32m      2\u001b[0m     \u001b[1;32mif\u001b[0m \u001b[0mdivtag\u001b[0m\u001b[1;33m.\u001b[0m\u001b[0mtext\u001b[0m \u001b[1;33m!=\u001b[0m \u001b[1;34m\"\"\u001b[0m\u001b[1;33m:\u001b[0m\u001b[1;33m\u001b[0m\u001b[1;33m\u001b[0m\u001b[0m\n\u001b[0;32m      3\u001b[0m         \u001b[0mprint\u001b[0m\u001b[1;33m(\u001b[0m\u001b[1;34m\"--------------------------\"\u001b[0m\u001b[1;33m)\u001b[0m\u001b[1;33m\u001b[0m\u001b[1;33m\u001b[0m\u001b[0m\n\u001b[1;32m----> 4\u001b[1;33m         \u001b[0matag\u001b[0m \u001b[1;33m=\u001b[0m \u001b[0mdivtag\u001b[0m\u001b[1;33m.\u001b[0m\u001b[0mfind_element\u001b[0m\u001b[1;33m(\u001b[0m\u001b[0mBy\u001b[0m\u001b[1;33m.\u001b[0m\u001b[0mXPATH\u001b[0m\u001b[1;33m,\u001b[0m \u001b[1;34m'./div/a[1]'\u001b[0m\u001b[1;33m)\u001b[0m\u001b[1;33m\u001b[0m\u001b[1;33m\u001b[0m\u001b[0m\n\u001b[0m\u001b[0;32m      5\u001b[0m         \u001b[0msubdiv\u001b[0m \u001b[1;33m=\u001b[0m \u001b[0mdivtag\u001b[0m\u001b[1;33m.\u001b[0m\u001b[0mfind_element\u001b[0m\u001b[1;33m(\u001b[0m\u001b[0mBy\u001b[0m\u001b[1;33m.\u001b[0m\u001b[0mXPATH\u001b[0m\u001b[1;33m,\u001b[0m \u001b[1;34m\"./div/div[2]\"\u001b[0m\u001b[1;33m)\u001b[0m\u001b[1;33m\u001b[0m\u001b[1;33m\u001b[0m\u001b[0m\n\u001b[0;32m      6\u001b[0m         \u001b[0mname\u001b[0m \u001b[1;33m=\u001b[0m \u001b[0msubdiv\u001b[0m\u001b[1;33m.\u001b[0m\u001b[0mfind_element\u001b[0m\u001b[1;33m(\u001b[0m\u001b[0mBy\u001b[0m\u001b[1;33m.\u001b[0m\u001b[0mXPATH\u001b[0m\u001b[1;33m,\u001b[0m \u001b[1;34m\"./div[2]/div[1]/div[1]/div[1]/div[1]/div[1]\"\u001b[0m\u001b[1;33m)\u001b[0m\u001b[1;33m\u001b[0m\u001b[1;33m\u001b[0m\u001b[0m\n",
      "\u001b[1;32mD:\\anaconda\\lib\\site-packages\\selenium\\webdriver\\remote\\webelement.py\u001b[0m in \u001b[0;36mfind_element\u001b[1;34m(self, by, value)\u001b[0m\n\u001b[0;32m    733\u001b[0m             \u001b[0mvalue\u001b[0m \u001b[1;33m=\u001b[0m \u001b[1;34m'[name=\"%s\"]'\u001b[0m \u001b[1;33m%\u001b[0m \u001b[0mvalue\u001b[0m\u001b[1;33m\u001b[0m\u001b[1;33m\u001b[0m\u001b[0m\n\u001b[0;32m    734\u001b[0m \u001b[1;33m\u001b[0m\u001b[0m\n\u001b[1;32m--> 735\u001b[1;33m         return self._execute(Command.FIND_CHILD_ELEMENT,\n\u001b[0m\u001b[0;32m    736\u001b[0m                              {\"using\": by, \"value\": value})['value']\n\u001b[0;32m    737\u001b[0m \u001b[1;33m\u001b[0m\u001b[0m\n",
      "\u001b[1;32mD:\\anaconda\\lib\\site-packages\\selenium\\webdriver\\remote\\webelement.py\u001b[0m in \u001b[0;36m_execute\u001b[1;34m(self, command, params)\u001b[0m\n\u001b[0;32m    708\u001b[0m             \u001b[0mparams\u001b[0m \u001b[1;33m=\u001b[0m \u001b[1;33m{\u001b[0m\u001b[1;33m}\u001b[0m\u001b[1;33m\u001b[0m\u001b[1;33m\u001b[0m\u001b[0m\n\u001b[0;32m    709\u001b[0m         \u001b[0mparams\u001b[0m\u001b[1;33m[\u001b[0m\u001b[1;34m'id'\u001b[0m\u001b[1;33m]\u001b[0m \u001b[1;33m=\u001b[0m \u001b[0mself\u001b[0m\u001b[1;33m.\u001b[0m\u001b[0m_id\u001b[0m\u001b[1;33m\u001b[0m\u001b[1;33m\u001b[0m\u001b[0m\n\u001b[1;32m--> 710\u001b[1;33m         \u001b[1;32mreturn\u001b[0m \u001b[0mself\u001b[0m\u001b[1;33m.\u001b[0m\u001b[0m_parent\u001b[0m\u001b[1;33m.\u001b[0m\u001b[0mexecute\u001b[0m\u001b[1;33m(\u001b[0m\u001b[0mcommand\u001b[0m\u001b[1;33m,\u001b[0m \u001b[0mparams\u001b[0m\u001b[1;33m)\u001b[0m\u001b[1;33m\u001b[0m\u001b[1;33m\u001b[0m\u001b[0m\n\u001b[0m\u001b[0;32m    711\u001b[0m \u001b[1;33m\u001b[0m\u001b[0m\n\u001b[0;32m    712\u001b[0m     \u001b[1;32mdef\u001b[0m \u001b[0mfind_element\u001b[0m\u001b[1;33m(\u001b[0m\u001b[0mself\u001b[0m\u001b[1;33m,\u001b[0m \u001b[0mby\u001b[0m\u001b[1;33m=\u001b[0m\u001b[0mBy\u001b[0m\u001b[1;33m.\u001b[0m\u001b[0mID\u001b[0m\u001b[1;33m,\u001b[0m \u001b[0mvalue\u001b[0m\u001b[1;33m=\u001b[0m\u001b[1;32mNone\u001b[0m\u001b[1;33m)\u001b[0m\u001b[1;33m:\u001b[0m\u001b[1;33m\u001b[0m\u001b[1;33m\u001b[0m\u001b[0m\n",
      "\u001b[1;32mD:\\anaconda\\lib\\site-packages\\selenium\\webdriver\\remote\\webdriver.py\u001b[0m in \u001b[0;36mexecute\u001b[1;34m(self, driver_command, params)\u001b[0m\n\u001b[0;32m    423\u001b[0m         \u001b[0mresponse\u001b[0m \u001b[1;33m=\u001b[0m \u001b[0mself\u001b[0m\u001b[1;33m.\u001b[0m\u001b[0mcommand_executor\u001b[0m\u001b[1;33m.\u001b[0m\u001b[0mexecute\u001b[0m\u001b[1;33m(\u001b[0m\u001b[0mdriver_command\u001b[0m\u001b[1;33m,\u001b[0m \u001b[0mparams\u001b[0m\u001b[1;33m)\u001b[0m\u001b[1;33m\u001b[0m\u001b[1;33m\u001b[0m\u001b[0m\n\u001b[0;32m    424\u001b[0m         \u001b[1;32mif\u001b[0m \u001b[0mresponse\u001b[0m\u001b[1;33m:\u001b[0m\u001b[1;33m\u001b[0m\u001b[1;33m\u001b[0m\u001b[0m\n\u001b[1;32m--> 425\u001b[1;33m             \u001b[0mself\u001b[0m\u001b[1;33m.\u001b[0m\u001b[0merror_handler\u001b[0m\u001b[1;33m.\u001b[0m\u001b[0mcheck_response\u001b[0m\u001b[1;33m(\u001b[0m\u001b[0mresponse\u001b[0m\u001b[1;33m)\u001b[0m\u001b[1;33m\u001b[0m\u001b[1;33m\u001b[0m\u001b[0m\n\u001b[0m\u001b[0;32m    426\u001b[0m             response['value'] = self._unwrap_value(\n\u001b[0;32m    427\u001b[0m                 response.get('value', None))\n",
      "\u001b[1;32mD:\\anaconda\\lib\\site-packages\\selenium\\webdriver\\remote\\errorhandler.py\u001b[0m in \u001b[0;36mcheck_response\u001b[1;34m(self, response)\u001b[0m\n\u001b[0;32m    245\u001b[0m                 \u001b[0malert_text\u001b[0m \u001b[1;33m=\u001b[0m \u001b[0mvalue\u001b[0m\u001b[1;33m[\u001b[0m\u001b[1;34m'alert'\u001b[0m\u001b[1;33m]\u001b[0m\u001b[1;33m.\u001b[0m\u001b[0mget\u001b[0m\u001b[1;33m(\u001b[0m\u001b[1;34m'text'\u001b[0m\u001b[1;33m)\u001b[0m\u001b[1;33m\u001b[0m\u001b[1;33m\u001b[0m\u001b[0m\n\u001b[0;32m    246\u001b[0m             \u001b[1;32mraise\u001b[0m \u001b[0mexception_class\u001b[0m\u001b[1;33m(\u001b[0m\u001b[0mmessage\u001b[0m\u001b[1;33m,\u001b[0m \u001b[0mscreen\u001b[0m\u001b[1;33m,\u001b[0m \u001b[0mstacktrace\u001b[0m\u001b[1;33m,\u001b[0m \u001b[0malert_text\u001b[0m\u001b[1;33m)\u001b[0m  \u001b[1;31m# type: ignore[call-arg]  # mypy is not smart enough here\u001b[0m\u001b[1;33m\u001b[0m\u001b[1;33m\u001b[0m\u001b[0m\n\u001b[1;32m--> 247\u001b[1;33m         \u001b[1;32mraise\u001b[0m \u001b[0mexception_class\u001b[0m\u001b[1;33m(\u001b[0m\u001b[0mmessage\u001b[0m\u001b[1;33m,\u001b[0m \u001b[0mscreen\u001b[0m\u001b[1;33m,\u001b[0m \u001b[0mstacktrace\u001b[0m\u001b[1;33m)\u001b[0m\u001b[1;33m\u001b[0m\u001b[1;33m\u001b[0m\u001b[0m\n\u001b[0m\u001b[0;32m    248\u001b[0m \u001b[1;33m\u001b[0m\u001b[0m\n\u001b[0;32m    249\u001b[0m     \u001b[1;32mdef\u001b[0m \u001b[0m_value_or_default\u001b[0m\u001b[1;33m(\u001b[0m\u001b[0mself\u001b[0m\u001b[1;33m,\u001b[0m \u001b[0mobj\u001b[0m\u001b[1;33m:\u001b[0m \u001b[0mMapping\u001b[0m\u001b[1;33m[\u001b[0m\u001b[0m_KT\u001b[0m\u001b[1;33m,\u001b[0m \u001b[0m_VT\u001b[0m\u001b[1;33m]\u001b[0m\u001b[1;33m,\u001b[0m \u001b[0mkey\u001b[0m\u001b[1;33m:\u001b[0m \u001b[0m_KT\u001b[0m\u001b[1;33m,\u001b[0m \u001b[0mdefault\u001b[0m\u001b[1;33m:\u001b[0m \u001b[0m_VT\u001b[0m\u001b[1;33m)\u001b[0m \u001b[1;33m->\u001b[0m \u001b[0m_VT\u001b[0m\u001b[1;33m:\u001b[0m\u001b[1;33m\u001b[0m\u001b[1;33m\u001b[0m\u001b[0m\n",
      "\u001b[1;31mNoSuchElementException\u001b[0m: Message: no such element: Unable to locate element: {\"method\":\"xpath\",\"selector\":\"./div/a[1]\"}\n  (Session info: chrome=102.0.5005.62)\nStacktrace:\nBacktrace:\n\tOrdinal0 [0x00D8B8F3+2406643]\n\tOrdinal0 [0x00D1AF31+1945393]\n\tOrdinal0 [0x00C0C748+837448]\n\tOrdinal0 [0x00C392E0+1020640]\n\tOrdinal0 [0x00C3957B+1021307]\n\tOrdinal0 [0x00C2FAE1+981729]\n\tOrdinal0 [0x00C542C4+1131204]\n\tOrdinal0 [0x00C2FA64+981604]\n\tOrdinal0 [0x00C54494+1131668]\n\tOrdinal0 [0x00C64682+1197698]\n\tOrdinal0 [0x00C54096+1130646]\n\tOrdinal0 [0x00C2E636+976438]\n\tOrdinal0 [0x00C2F546+980294]\n\tGetHandleVerifier [0x00FF9612+2498066]\n\tGetHandleVerifier [0x00FEC920+2445600]\n\tGetHandleVerifier [0x00E24F2A+579370]\n\tGetHandleVerifier [0x00E23D36+574774]\n\tOrdinal0 [0x00D21C0B+1973259]\n\tOrdinal0 [0x00D26688+1992328]\n\tOrdinal0 [0x00D26775+1992565]\n\tOrdinal0 [0x00D2F8D1+2029777]\n\tBaseThreadInitThunk [0x7738FA29+25]\n\tRtlGetAppContainerNamedObjectPath [0x77A17A7E+286]\n\tRtlGetAppContainerNamedObjectPath [0x77A17A4E+238]\n"
     ]
    }
   ],
   "source": [
    "for divtag in target.find_elements(By.XPATH, './div'):\n",
    "    if divtag.text != \"\":\n",
    "        print(\"--------------------------\")\n",
    "        atag = divtag.find_element(By.XPATH, './div/a[1]')\n",
    "        subdiv = divtag.find_element(By.XPATH, \"./div/div[2]\")\n",
    "        name = subdiv.find_element(By.XPATH, \"./div[2]/div[1]/div[1]/div[1]/div[1]/div[1]\")\n",
    "        star = subdiv.find_element(By.XPATH, \"./div[2]/div[1]/div[1]/div[1]/div[1]/div[3]\")\n",
    "        addr = subdiv.find_element(By.XPATH, \"./div[2]/div[1]/div[1]/div[1]/div[1]/div[4]/div[1]\")\n",
    "\n",
    "        print(name.text)\n",
    "        print(addr.text)\n",
    "        print(atag.get_attribute('href').split('!')[5][2:])\n",
    "        print(atag.get_attribute('href').split('!')[6].split('?')[0][2:])\n",
    "        print(star.text)\n",
    "# [출처] 파이썬 크롤링 셀레니움 (구글지도 맛집 정보, 오늘의집 크롤링 등)|작성자 홍인\n",
    "# https://blog.naver.com/hongin90/222661902505"
   ]
  },
  {
   "cell_type": "code",
   "execution_count": null,
   "id": "521cb461",
   "metadata": {},
   "outputs": [],
   "source": []
  }
 ],
 "metadata": {
  "kernelspec": {
   "display_name": "Python 3 (ipykernel)",
   "language": "python",
   "name": "python3"
  },
  "language_info": {
   "codemirror_mode": {
    "name": "ipython",
    "version": 3
   },
   "file_extension": ".py",
   "mimetype": "text/x-python",
   "name": "python",
   "nbconvert_exporter": "python",
   "pygments_lexer": "ipython3",
   "version": "3.9.7"
  }
 },
 "nbformat": 4,
 "nbformat_minor": 5
}
